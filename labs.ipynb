{
 "cells": [
  {
   "cell_type": "markdown",
   "metadata": {},
   "source": [
    "# Импорт библиотек"
   ]
  },
  {
   "cell_type": "code",
   "execution_count": null,
   "metadata": {},
   "outputs": [],
   "source": [
    "import numpy as np\n",
    "import pandas as pd\n",
    "import matplotlib.pyplot as plt\n",
    "import seaborn as sns\n",
    "import sklearn"
   ]
  },
  {
   "cell_type": "markdown",
   "metadata": {},
   "source": [
    "# Описание задачи:"
   ]
  },
  {
   "cell_type": "markdown",
   "metadata": {},
   "source": [
    "Nomao - это инструмент для поиска различных локаций. Nomao собирает данные о различных местах из множества источников в интернете и аггрегирует их. Задача заключается в исключении дублирующихся мест, т.е. нужно понять, какие данные из разных источников говорят об одних и тех же местах.\n",
    "\n",
    "Данные Nomao это сравнения описаний различных мест. Место описывается своими главными признаками: имя, адрес, геолокация, вебсайт, телефон, факс и т.д. В самом же датасете представлены метрики сравнения этих признаков между двумя точками\n",
    "\n",
    "Пропущенные значения обозначаются через `?`.\n",
    "\n",
    "Метки следующие: +1, если сравниваемые места это одно и то же место и -1, если сравниваемые места разные"
   ]
  },
  {
   "cell_type": "markdown",
   "metadata": {},
   "source": [
    "Чек требований к датасету:\n",
    "1. ~~Наличие пропущенных значений~~\n",
    "2. ~~Разнородные признаки (например, один признак - зарплата, второй - марка автомобиля, а не все - интенсивности пикселей и т.п.)~~\n",
    "3. ~~Несбалансированные классы (например, 90% объектов первого класса и 10% объектов второго класса)~~\n",
    "4. Большое количество выбросов\n",
    "5. Наличие текстовых признаков. Т.е. один из признаков - это произвольный текст, например, описание товара, аннотация к фильму и т.п."
   ]
  },
  {
   "cell_type": "markdown",
   "metadata": {},
   "source": [
    "# Загрузка данных"
   ]
  },
  {
   "cell_type": "markdown",
   "metadata": {},
   "source": [
    "Имена столбцов не лежат отдельно, а представлены в файле с описанием данных. Для их извлечения я применил парсинг регулярными выражениями в Notepad++."
   ]
  },
  {
   "cell_type": "code",
   "execution_count": null,
   "metadata": {},
   "outputs": [],
   "source": [
    "column_names = ['id',\n",
    "'clean_name_intersect_min',\n",
    "'clean_name_intersect_max',\n",
    "'clean_name_levenshtein_sim',\n",
    "'clean_name_trigram_sim',\n",
    "'clean_name_levenshtein_term',\n",
    "'clean_name_trigram_term',\n",
    "'clean_name_including',\n",
    "'clean_name_equality',\n",
    "'city_intersect_min',\n",
    "'city_intersect_max',\n",
    "'city_levenshtein_sim',\n",
    "'city_trigram_sim',\n",
    "'city_levenshtein_term',\n",
    "'city_trigram_term',\n",
    "'city_including',\n",
    "'city_equality',\n",
    "'zip_intersect_min',\n",
    "'zip_intersect_max',\n",
    "'zip_levenshtein_sim',\n",
    "'zip_trigram_sim',\n",
    "'zip_levenshtein_term',\n",
    "'zip_trigram_term',\n",
    "'zip_including',\n",
    "'zip_equality',\n",
    "'street_intersect_min',\n",
    "'street_intersect_max',\n",
    "'street_levenshtein_sim',\n",
    "'street_trigram_sim',\n",
    "'street_levenshtein_term',\n",
    "'street_trigram_term',\n",
    "'street_including',\n",
    "'street_equality',\n",
    "'website_intersect_min',\n",
    "'website_intersect_max',\n",
    "'website_levenshtein_sim',\n",
    "'website_trigram_sim',\n",
    "'website_levenshtein_term',\n",
    "'website_trigram_term',\n",
    "'website_including',\n",
    "'website_equality',\n",
    "'countryname_intersect_min',\n",
    "'countryname_intersect_max',\n",
    "'countryname_levenshtein_sim',\n",
    "'countryname_trigram_sim',\n",
    "'countryname_levenshtein_term',\n",
    "'countryname_trigram_term',\n",
    "'countryname_including',\n",
    "'countryname_equality',\n",
    "'geocoderlocalityname_intersect_min',\n",
    "'geocoderlocalityname_intersect_max',\n",
    "'geocoderlocalityname_levenshtein_sim',\n",
    "'geocoderlocalityname_trigram_sim',\n",
    "'geocoderlocalityname_levenshtein_term',\n",
    "'geocoderlocalityname_trigram_term',\n",
    "'geocoderlocalityname_including',\n",
    "'geocoderlocalityname_equality',\n",
    "'geocoderinputaddress_intersect_min',\n",
    "'geocoderinputaddress_intersect_max',\n",
    "'geocoderinputaddress_levenshtein_sim',\n",
    "'geocoderinputaddress_trigram_sim',\n",
    "'geocoderinputaddress_levenshtein_term',\n",
    "'geocoderinputaddress_trigram_term',\n",
    "'geocoderinputaddress_including',\n",
    "'geocoderinputaddress_equality',\n",
    "'geocoderoutputaddress_intersect_min',\n",
    "'geocoderoutputaddress_intersect_max',\n",
    "'geocoderoutputaddress_levenshtein_sim',\n",
    "'geocoderoutputaddress_trigram_sim',\n",
    "'geocoderoutputaddress_levenshtein_term',\n",
    "'geocoderoutputaddress_trigram_term',\n",
    "'geocoderoutputaddress_including',\n",
    "'geocoderoutputaddress_equality',\n",
    "'geocoderpostalcodenumber_intersect_min',\n",
    "'geocoderpostalcodenumber_intersect_max',\n",
    "'geocoderpostalcodenumber_levenshtein_sim',\n",
    "'geocoderpostalcodenumber_trigram_sim',\n",
    "'geocoderpostalcodenumber_levenshtein_term',\n",
    "'geocoderpostalcodenumber_trigram_term',\n",
    "'geocoderpostalcodenumber_including',\n",
    "'geocoderpostalcodenumber_equality',\n",
    "'geocodercountrynamecode_intersect_min',\n",
    "'geocodercountrynamecode_intersect_max',\n",
    "'geocodercountrynamecode_levenshtein_sim',\n",
    "'geocodercountrynamecode_trigram_sim',\n",
    "'geocodercountrynamecode_levenshtein_term',\n",
    "'geocodercountrynamecode_trigram_term',\n",
    "'geocodercountrynamecode_including',\n",
    "'geocodercountrynamecode_equality',\n",
    "'phone_diff',\n",
    "'phone_levenshtein',\n",
    "'phone_trigram',\n",
    "'phone_equality',\n",
    "'fax_diff',\n",
    "'fax_levenshtein',\n",
    "'fax_trigram',\n",
    "'fax_equality',\n",
    "'street_number_diff',\n",
    "'street_number_levenshtein',\n",
    "'street_number_trigram',\n",
    "'street_number_equality',\n",
    "'geocode_coordinates_long_diff',\n",
    "'geocode_coordinates_long_levenshtein',\n",
    "'geocode_coordinates_long_trigram',\n",
    "'geocode_coordinates_long_equality',\n",
    "'geocode_coordinates_lat_diff',\n",
    "'geocode_coordinates_lat_levenshtein',\n",
    "'geocode_coordinates_lat_trigram',\n",
    "'geocode_coordinates_lat_equality',\n",
    "'coordinates_long_diff',\n",
    "'coordinates_long_levenshtein',\n",
    "'coordinates_long_trigram',\n",
    "'coordinates_long_equality',\n",
    "'coordinates_lat_diff',\n",
    "'coordinates_lat_levenshtein',\n",
    "'coordinates_lat_trigram',\n",
    "'coordinates_lat_equality',\n",
    "'geocode_coordinates_diff',\n",
    "'coordinates_diff',\n",
    "'label']"
   ]
  },
  {
   "cell_type": "code",
   "execution_count": null,
   "metadata": {},
   "outputs": [],
   "source": [
    "raw_data = pd.read_csv('Nomao.data', names=column_names)\n",
    "raw_data = raw_data.drop(columns=\"id\")"
   ]
  },
  {
   "cell_type": "code",
   "execution_count": null,
   "metadata": {},
   "outputs": [],
   "source": [
    "raw_data.shape"
   ]
  },
  {
   "cell_type": "markdown",
   "metadata": {},
   "source": [
    "Первые 5 строк:"
   ]
  },
  {
   "cell_type": "code",
   "execution_count": null,
   "metadata": {},
   "outputs": [],
   "source": [
    "raw_data.head()"
   ]
  },
  {
   "cell_type": "markdown",
   "metadata": {},
   "source": [
    "Последние 5 строк:"
   ]
  },
  {
   "cell_type": "code",
   "execution_count": null,
   "metadata": {},
   "outputs": [],
   "source": [
    "raw_data.tail()"
   ]
  },
  {
   "cell_type": "markdown",
   "metadata": {},
   "source": [
    "# Работа с пропущенными значениями"
   ]
  },
  {
   "cell_type": "markdown",
   "metadata": {},
   "source": [
    "Посмотрим, сколько процентов пропущенных значений в столбцах (столбцы без пропущенных значений не представлены)"
   ]
  },
  {
   "cell_type": "code",
   "execution_count": null,
   "metadata": {},
   "outputs": [],
   "source": [
    "counter = 0\n",
    "for column in raw_data.columns:\n",
    "    counts = raw_data[column].value_counts()\n",
    "    if '?' in counts:\n",
    "        counter = counter + 1\n",
    "        coef = 100 * counts['?'] / len(raw_data[column])\n",
    "        print(column, coef)\n",
    "print(counter)"
   ]
  },
  {
   "cell_type": "markdown",
   "metadata": {},
   "source": [
    "Для начала сделаем копию"
   ]
  },
  {
   "cell_type": "code",
   "execution_count": null,
   "metadata": {},
   "outputs": [],
   "source": [
    "data = raw_data"
   ]
  },
  {
   "cell_type": "markdown",
   "metadata": {},
   "source": [
    "Избавимся от всех столбцов, где пропущенных значений больше 30%"
   ]
  },
  {
   "cell_type": "code",
   "execution_count": null,
   "metadata": {},
   "outputs": [],
   "source": [
    "columns_for_delete = []\n",
    "for column in data.columns:\n",
    "    counts = data[column].value_counts()\n",
    "    if '?' in counts:\n",
    "        coef = 100 * counts['?'] / len(data[column])\n",
    "        if coef >= 30:\n",
    "            columns_for_delete.append(column)\n",
    "data = data.drop(columns=columns_for_delete)"
   ]
  },
  {
   "cell_type": "code",
   "execution_count": null,
   "metadata": {},
   "outputs": [],
   "source": [
    "data.shape"
   ]
  },
  {
   "cell_type": "markdown",
   "metadata": {},
   "source": [
    "Первые 5 строк:"
   ]
  },
  {
   "cell_type": "code",
   "execution_count": null,
   "metadata": {},
   "outputs": [],
   "source": [
    "data.head()"
   ]
  },
  {
   "cell_type": "markdown",
   "metadata": {},
   "source": [
    "Последние 5 строк:"
   ]
  },
  {
   "cell_type": "code",
   "execution_count": null,
   "metadata": {},
   "outputs": [],
   "source": [
    "data.tail()"
   ]
  },
  {
   "cell_type": "markdown",
   "metadata": {},
   "source": [
    "Посмотрим еще раз проценты пропущенных значений"
   ]
  },
  {
   "cell_type": "code",
   "execution_count": null,
   "metadata": {},
   "outputs": [],
   "source": [
    "counter = 0\n",
    "for column in data.columns:\n",
    "    counts = data[column].value_counts()\n",
    "    if '?' in counts:\n",
    "        counter = counter + 1\n",
    "        coef = 100 * counts['?'] / len(data[column])\n",
    "        print(column, coef)\n",
    "print(counter)"
   ]
  },
  {
   "cell_type": "markdown",
   "metadata": {},
   "source": [
    "Данных много, поэтому можно позволить себе удалить все строки с пропущенными значениями"
   ]
  },
  {
   "cell_type": "code",
   "execution_count": null,
   "metadata": {},
   "outputs": [],
   "source": [
    "indexes_for_delete = []\n",
    "for index in data.index:\n",
    "    if '?' in data.loc[index, ].array:\n",
    "        indexes_for_delete.append(index)\n",
    "data = data.drop(index=indexes_for_delete)"
   ]
  },
  {
   "cell_type": "code",
   "execution_count": null,
   "metadata": {},
   "outputs": [],
   "source": [
    "data.shape"
   ]
  },
  {
   "cell_type": "markdown",
   "metadata": {},
   "source": [
    "Посмотрим еще раз проценты пропущенных значений"
   ]
  },
  {
   "cell_type": "code",
   "execution_count": null,
   "metadata": {},
   "outputs": [],
   "source": [
    "counter = 0\n",
    "for column in data.columns:\n",
    "    counts = data[column].value_counts()\n",
    "    if '?' in counts:\n",
    "        counter = counter + 1\n",
    "        coef = 100 * counts['?'] / len(data[column])\n",
    "        print(column, coef)\n",
    "print(counter)"
   ]
  }
 ],
 "metadata": {
  "language_info": {
   "name": "python"
  }
 },
 "nbformat": 4,
 "nbformat_minor": 2
}
